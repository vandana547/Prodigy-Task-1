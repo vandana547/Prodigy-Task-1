{
  "cells": [
    {
      "cell_type": "code",
      "execution_count": 2,
      "metadata": {
        "colab": {
          "base_uri": "https://localhost:8080/"
        },
        "id": "_wB1is2v-zAn",
        "outputId": "403178f8-a64b-48c8-f6fa-3aa252816995"
      },
      "outputs": [
        {
          "name": "stdout",
          "output_type": "stream",
          "text": [
            "Temperature Converter\n",
            "Enter the temperature value: 45\n",
            "Enter the unit (C for Celsius, F for Fahrenheit, K for Kelvin): c\n",
            "\n",
            "Converted Temperatures: 45.00 °C = 113.00 °F = 318.15 K\n"
          ]
        }
      ],
      "source": [
        "def celsius_to_fahrenheit(c):\n",
        "    return (c * 9/5) + 32\n",
        "\n",
        "def celsius_to_kelvin(c):\n",
        "    return c + 273.15\n",
        "\n",
        "def fahrenheit_to_celsius(f):\n",
        "    return (f - 32) * 5/9\n",
        "\n",
        "def fahrenheit_to_kelvin(f):\n",
        "    return (f - 32) * 5/9 + 273.15\n",
        "\n",
        "def kelvin_to_celsius(k):\n",
        "    return k - 273.15\n",
        "\n",
        "def kelvin_to_fahrenheit(k):\n",
        "    return (k - 273.15) * 9/5 + 32\n",
        "\n",
        "# Main program\n",
        "print(\"Temperature Converter\")\n",
        "value = float(input(\"Enter the temperature value: \"))\n",
        "unit = input(\"Enter the unit (C for Celsius, F for Fahrenheit, K for Kelvin): \").upper()\n",
        "\n",
        "if unit == \"C\":\n",
        "    f = celsius_to_fahrenheit(value)\n",
        "    k = celsius_to_kelvin(value)\n",
        "    print(f\"\\nConverted Temperatures: {value:.2f} °C = {f:.2f} °F = {k:.2f} K\")\n",
        "\n",
        "elif unit == \"F\":\n",
        "    c = fahrenheit_to_celsius(value)\n",
        "    k = fahrenheit_to_kelvin(value)\n",
        "    print(f\"\\nConverted Temperatures: {value:.2f} °F = {c:.2f} °C = {k:.2f} K\")\n",
        "\n",
        "elif unit == \"K\":\n",
        "    c = kelvin_to_celsius(value)\n",
        "    f = kelvin_to_fahrenheit(value)\n",
        "    print(f\"\\nConverted Temperatures: {value:.2f} K = {c:.2f} °C = {f:.2f} °F\")\n",
        "\n",
        "else:\n",
        "    print(\"Invalid unit! Please enter C, F, or K.\")"
      ]
    }
  ],
  "metadata": {
    "colab": {
      "name": "Welcome To Colab",
      "provenance": []
    },
    "kernelspec": {
      "display_name": "Python 3",
      "name": "python3"
    }
  },
  "nbformat": 4,
  "nbformat_minor": 0
}
